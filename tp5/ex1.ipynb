{
 "cells": [
  {
   "cell_type": "code",
   "execution_count": 1,
   "metadata": {},
   "outputs": [],
   "source": [
    "from scipy.fft import fft2, fftshift\n",
    "from pathlib import Path\n",
    "import numpy as np\n",
    "import skimage"
   ]
  },
  {
   "cell_type": "code",
   "execution_count": 2,
   "metadata": {},
   "outputs": [],
   "source": [
    "ASSETS_FOLDER_PATH = \"./assets\"\n",
    "OUTPUT_FOLDER_PATH = \".\""
   ]
  },
  {
   "cell_type": "code",
   "execution_count": 3,
   "metadata": {},
   "outputs": [],
   "source": [
    "Path(OUTPUT_FOLDER_PATH).mkdir(parents=True, exist_ok=True)"
   ]
  },
  {
   "cell_type": "markdown",
   "metadata": {},
   "source": [
    "Cargamos la imagen"
   ]
  },
  {
   "cell_type": "code",
   "execution_count": 4,
   "metadata": {},
   "outputs": [],
   "source": [
    "lena = skimage.io.imread(fname=f\"{ASSETS_FOLDER_PATH}/lena_gray.tif\")"
   ]
  },
  {
   "cell_type": "code",
   "execution_count": 5,
   "metadata": {},
   "outputs": [],
   "source": [
    "def fft2c(x: np.ndarray) -> np.ndarray:\n",
    "    return fftshift(fft2(fftshift(x)))"
   ]
  },
  {
   "cell_type": "code",
   "execution_count": 6,
   "metadata": {},
   "outputs": [
    {
     "data": {
      "text/plain": [
       "array([[-980.          -0.j        ,  348.45505634-835.63267877j,\n",
       "          54.15437913+480.50568051j, ..., -172.22872913+708.96940316j,\n",
       "          54.15437913-480.50568051j,  348.45505634+835.63267877j],\n",
       "       [ 760.30685996-407.82005047j,  619.71062117+984.46337984j,\n",
       "        -494.06767293-266.31494451j, ..., -248.31411361 +68.18627521j,\n",
       "        -422.21789696-321.80875497j,  486.05097549+650.76600448j],\n",
       "       [ 988.86480407-402.52931255j, -816.71508028-399.4093049j ,\n",
       "        -328.09535696+509.68902865j, ...,   66.40092126-654.28533323j,\n",
       "         140.52895782+391.96598814j,  297.67641231+855.13388244j],\n",
       "       ...,\n",
       "       [-193.09976612 +80.16834092j,   45.28840421+149.28193168j,\n",
       "        -668.40788748-311.79393323j, ...,   64.34566561-500.97892103j,\n",
       "          21.42750019-216.98533213j, -686.28603607  +3.14818803j],\n",
       "       [ 988.86480407+402.52931255j,  297.67641231-855.13388244j,\n",
       "         140.52895782-391.96598814j, ...,    1.12490467 +94.24543778j,\n",
       "        -328.09535696-509.68902865j, -816.71508028+399.4093049j ],\n",
       "       [ 760.30685996+407.82005047j,  486.05097549-650.76600448j,\n",
       "        -422.21789696+321.80875497j, ...,  439.35603699+473.23911752j,\n",
       "        -494.06767293+266.31494451j,  619.71062117-984.46337984j]])"
      ]
     },
     "execution_count": 6,
     "metadata": {},
     "output_type": "execute_result"
    }
   ],
   "source": [
    "fft_lena = fft2c(lena)"
   ]
  },
  {
   "cell_type": "code",
   "execution_count": null,
   "metadata": {},
   "outputs": [],
   "source": [
    "blurred_image"
   ]
  },
  {
   "cell_type": "code",
   "execution_count": null,
   "metadata": {},
   "outputs": [],
   "source": []
  }
 ],
 "metadata": {
  "kernelspec": {
   "display_name": "Python 3",
   "language": "python",
   "name": "python3"
  },
  "language_info": {
   "codemirror_mode": {
    "name": "ipython",
    "version": 3
   },
   "file_extension": ".py",
   "mimetype": "text/x-python",
   "name": "python",
   "nbconvert_exporter": "python",
   "pygments_lexer": "ipython3",
   "version": "3.10.12"
  }
 },
 "nbformat": 4,
 "nbformat_minor": 2
}
