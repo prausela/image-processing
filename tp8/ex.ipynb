{
 "cells": [
  {
   "cell_type": "code",
   "execution_count": 1,
   "metadata": {},
   "outputs": [],
   "source": [
    "import numpy as np\n",
    "import matplotlib.pyplot as plt\n",
    "from skimage.io import imread, imshow\n",
    "from skimage.transform import radon\n",
    "from skimage.draw import ellipse"
   ]
  },
  {
   "cell_type": "code",
   "execution_count": 2,
   "metadata": {},
   "outputs": [],
   "source": [
    "# Intensidad. I ∈ [-1; 1]\n",
    "I = 1\n",
    "\n",
    "# Inclinación\n",
    "A = 0\n",
    "\n",
    "# Semi-eje X. X ∈ (0; 1]\n",
    "X = 0\n",
    "\n",
    "# Semi-eje Y. Y ∈ (0; 1]\n",
    "Y = 0\n",
    "\n",
    "# Centro X. CX ∈ [-1; 1]\n",
    "CX = 0\n",
    "\n",
    "# Centro Y. CY ∈ [-1; 1]\n",
    "CY = 0"
   ]
  },
  {
   "cell_type": "code",
   "execution_count": 3,
   "metadata": {},
   "outputs": [],
   "source": [
    "image = imread(\"test_phantom.png\", as_gray=True)"
   ]
  },
  {
   "cell_type": "code",
   "execution_count": 4,
   "metadata": {},
   "outputs": [],
   "source": [
    "def new_phantom() -> np.ndarray:\n",
    "   phantom = np.zeros((250, 250))\n",
    "   return phantom"
   ]
  },
  {
   "cell_type": "code",
   "execution_count": 5,
   "metadata": {},
   "outputs": [],
   "source": [
    "def add_elipse(\n",
    "    phantom: np.ndarray,\n",
    "    I: int,\n",
    "    A: int,\n",
    "    X: int,\n",
    "    Y: int,\n",
    "    CX: int,\n",
    "    CY: int\n",
    ") -> np.ndarray:\n",
    "    \n",
    "    rad_A = A/180*np.pi\n",
    "    \n",
    "    scaled_X = (X * phantom.shape[1]/2) + phantom.shape[1]/2\n",
    "    scaled_Y = (Y * phantom.shape[0]/2) + phantom.shape[0]/2\n",
    "\n",
    "    scaled_CX = (CX * phantom.shape[1])/2\n",
    "    scaled_CY = (CY * phantom.shape[0])/2\n",
    "    \n",
    "    rr, cc = ellipse(r=scaled_Y, c=scaled_X, r_radius=scaled_CY, c_radius=scaled_CX, rotation=rad_A, shape=phantom.shape)\n",
    "    phantom[rr, cc] = I\n",
    "    return phantom"
   ]
  },
  {
   "cell_type": "code",
   "execution_count": 6,
   "metadata": {},
   "outputs": [
    {
     "data": {
      "text/plain": [
       "<matplotlib.image.AxesImage at 0x75caf69536a0>"
      ]
     },
     "execution_count": 6,
     "metadata": {},
     "output_type": "execute_result"
    },
    {
     "data": {
      "image/png": "[encoded data removed]",
      "text/plain": [
       "<Figure size 640x480 with 1 Axes>"
      ]
     },
     "metadata": {},
     "output_type": "display_data"
    }
   ],
   "source": [
    "phantom = new_phantom()\n",
    "imshow(phantom)"
   ]
  },
  {
   "cell_type": "code",
   "execution_count": 14,
   "metadata": {},
   "outputs": [
    {
     "data": {
      "text/plain": [
       "<matplotlib.image.AxesImage at 0x75caf55874c0>"
      ]
     },
     "execution_count": 14,
     "metadata": {},
     "output_type": "execute_result"
    },
    {
     "data": {
      "image/png": "[encoded data removed]",
      "text/plain": [
       "<Figure size 640x480 with 1 Axes>"
      ]
     },
     "metadata": {},
     "output_type": "display_data"
    }
   ],
   "source": [
    "phantom = add_elipse(phantom, .3, 90, -0.4, 0, 0.2, 0.4)\n",
    "plt.imshow(phantom, cmap=plt.get_cmap(\"hot\"), vmax=1, vmin=0)"
   ]
  },
  {
   "cell_type": "code",
   "execution_count": 8,
   "metadata": {},
   "outputs": [],
   "source": [
    "def make_sinogram(start: int, step: int, end: int) -> np.ndarray:\n",
    "    theta = list(range(start, end, step))\n",
    "    sinogram = radon(image, theta)\n",
    "    return sinogram"
   ]
  },
  {
   "cell_type": "code",
   "execution_count": 9,
   "metadata": {},
   "outputs": [],
   "source": [
    "def plot_sinogram(sinogram: np.ndarray) -> None:\n",
    "    plt.imshow(\n",
    "        sinogram,\n",
    "        cmap=plt.cm.get_cmap(\"hot\"),\n",
    "        aspect='auto',\n",
    "    )"
   ]
  },
  {
   "cell_type": "code",
   "execution_count": null,
   "metadata": {},
   "outputs": [],
   "source": []
  },
  {
   "cell_type": "code",
   "execution_count": null,
   "metadata": {},
   "outputs": [],
   "source": []
  }
 ],
 "metadata": {
  "kernelspec": {
   "display_name": "image-processing-7fMnORJO-py3.10",
   "language": "python",
   "name": "python3"
  },
  "language_info": {
   "codemirror_mode": {
    "name": "ipython",
    "version": 3
   },
   "file_extension": ".py",
   "mimetype": "text/x-python",
   "name": "python",
   "nbconvert_exporter": "python",
   "pygments_lexer": "ipython3",
   "version": "3.10.12"
  }
 },
 "nbformat": 4,
 "nbformat_minor": 2
}
