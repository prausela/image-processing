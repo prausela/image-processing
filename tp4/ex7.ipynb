{
 "cells": [
  {
   "cell_type": "markdown",
   "metadata": {},
   "source": [
    "# HDR\n",
    "HDR lo que hace es tomar fotos a diferente grado de exposición para poder tener un rango de colores más fiel al real. Cuando uno saca una foto hay zonas el brillo se ajusta a un punto de foco generando saturaciones y colores posiblemente no fieles. HDR toma fotos a diferentes grados de exposición, las ajusta para que se alinien los objetos en ellas y luego las combina para formar una imagen con un rango de color más cercano al real."
   ]
  },
  {
   "cell_type": "code",
   "execution_count": 1,
   "metadata": {},
   "outputs": [],
   "source": [
    "import numpy as np\n",
    "import cv2"
   ]
  },
  {
   "cell_type": "code",
   "execution_count": 2,
   "metadata": {},
   "outputs": [],
   "source": [
    "ASSETS_FOLDER = \"./assets/HDR_images\""
   ]
  },
  {
   "cell_type": "code",
   "execution_count": 3,
   "metadata": {},
   "outputs": [],
   "source": [
    "def readImagesAndTimes():\n",
    "  # List of exposure times\n",
    "  times = np.array([ 0.0333, 0.1000, 0.3333, 0.6250, 1.3000, 4.0000], dtype=np.float32)\n",
    " \n",
    "  # List of image filenames\n",
    "  filenames = [f\"{ASSETS_FOLDER}/office_1.jpg\", \n",
    "               f\"{ASSETS_FOLDER}/office_2.jpg\", \n",
    "               f\"{ASSETS_FOLDER}/office_3.jpg\", \n",
    "               f\"{ASSETS_FOLDER}/office_4.jpg\", \n",
    "               f\"{ASSETS_FOLDER}/office_5.jpg\", \n",
    "               f\"{ASSETS_FOLDER}/office_6.jpg\"]\n",
    "  images = []\n",
    "  for filename in filenames:\n",
    "    im = cv2.imread(filename)\n",
    "    images.append(im)\n",
    " \n",
    "  return images, times"
   ]
  },
  {
   "cell_type": "code",
   "execution_count": 4,
   "metadata": {},
   "outputs": [],
   "source": [
    "images, times = readImagesAndTimes()"
   ]
  },
  {
   "cell_type": "code",
   "execution_count": 5,
   "metadata": {},
   "outputs": [],
   "source": [
    "alignMTB = cv2.createAlignMTB()\n",
    "alignMTB.process(images, images)"
   ]
  },
  {
   "cell_type": "code",
   "execution_count": 6,
   "metadata": {},
   "outputs": [],
   "source": [
    "calibrateDebevec = cv2.createCalibrateDebevec()\n",
    "responseDebevec = calibrateDebevec.process(images, times)"
   ]
  },
  {
   "cell_type": "code",
   "execution_count": 7,
   "metadata": {},
   "outputs": [
    {
     "data": {
      "text/plain": [
       "True"
      ]
     },
     "execution_count": 7,
     "metadata": {},
     "output_type": "execute_result"
    }
   ],
   "source": [
    "# Merge images into an HDR linear image\n",
    "mergeDebevec = cv2.createMergeDebevec()\n",
    "hdrDebevec = mergeDebevec.process(images, times, responseDebevec)\n",
    "# Save HDR image.\n",
    "cv2.imwrite(\"hdrDebevec.hdr\", hdrDebevec)"
   ]
  },
  {
   "cell_type": "code",
   "execution_count": 8,
   "metadata": {},
   "outputs": [
    {
     "name": "stderr",
     "output_type": "stream",
     "text": [
      "[ WARN:0@0.333] global matrix_expressions.cpp:1333 assign OpenCV/MatExpr: processing of multi-channel arrays might be changed in the future: https://github.com/opencv/opencv/issues/16739\n"
     ]
    },
    {
     "data": {
      "text/plain": [
       "True"
      ]
     },
     "execution_count": 8,
     "metadata": {},
     "output_type": "execute_result"
    }
   ],
   "source": [
    "tonemapDrago = cv2.createTonemapDrago(1.0, 0.7)\n",
    "ldrDrago = tonemapDrago.process(hdrDebevec)\n",
    "ldrDrago = 3 * ldrDrago\n",
    "cv2.imwrite(\"ldr-Drago.jpg\", ldrDrago * 255)"
   ]
  },
  {
   "cell_type": "code",
   "execution_count": 9,
   "metadata": {},
   "outputs": [
    {
     "data": {
      "text/plain": [
       "True"
      ]
     },
     "execution_count": 9,
     "metadata": {},
     "output_type": "execute_result"
    }
   ],
   "source": [
    "# Tonemap using Reinhard's method to obtain 24-bit color image\n",
    "tonemapReinhard = cv2.createTonemapReinhard(1.5, 0,0,0)\n",
    "ldrReinhard = tonemapReinhard.process(hdrDebevec)\n",
    "cv2.imwrite(\"ldr-Reinhard.jpg\", ldrReinhard * 255)"
   ]
  },
  {
   "cell_type": "code",
   "execution_count": 10,
   "metadata": {},
   "outputs": [
    {
     "data": {
      "text/plain": [
       "True"
      ]
     },
     "execution_count": 10,
     "metadata": {},
     "output_type": "execute_result"
    }
   ],
   "source": [
    "# Tonemap using Mantiuk's method to obtain 24-bit color image\n",
    "tonemapMantiuk = cv2.createTonemapMantiuk(2.2,0.85, 1.2)\n",
    "ldrMantiuk = tonemapMantiuk.process(hdrDebevec)\n",
    "ldrMantiuk = 3 * ldrMantiuk\n",
    "cv2.imwrite(\"ldr-Mantiuk.jpg\", ldrMantiuk * 255)"
   ]
  },
  {
   "cell_type": "code",
   "execution_count": null,
   "metadata": {},
   "outputs": [],
   "source": []
  }
 ],
 "metadata": {
  "kernelspec": {
   "display_name": "Python 3",
   "language": "python",
   "name": "python3"
  },
  "language_info": {
   "codemirror_mode": {
    "name": "ipython",
    "version": 3
   },
   "file_extension": ".py",
   "mimetype": "text/x-python",
   "name": "python",
   "nbconvert_exporter": "python",
   "pygments_lexer": "ipython3",
   "version": "3.10.12"
  }
 },
 "nbformat": 4,
 "nbformat_minor": 2
}
