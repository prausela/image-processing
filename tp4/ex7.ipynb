{
 "cells": [
  {
   "cell_type": "code",
   "execution_count": 1,
   "metadata": {},
   "outputs": [],
   "source": [
    "import numpy as np\n",
    "import cv2"
   ]
  },
  {
   "cell_type": "code",
   "execution_count": 2,
   "metadata": {},
   "outputs": [],
   "source": [
    "ASSETS_FOLDER = \"./assets/HDR_images\""
   ]
  },
  {
   "cell_type": "code",
   "execution_count": 3,
   "metadata": {},
   "outputs": [],
   "source": [
    "def readImagesAndTimes():\n",
    "  # List of exposure times\n",
    "  times = np.array([ 0.0333, 0.1000, 0.3333, 0.6250, 1.3000, 4.0000], dtype=np.float32)\n",
    " \n",
    "  # List of image filenames\n",
    "  filenames = [f\"{ASSETS_FOLDER}/office_1.jpg\", \n",
    "               f\"{ASSETS_FOLDER}/office_2.jpg\", \n",
    "               f\"{ASSETS_FOLDER}/office_3.jpg\", \n",
    "               f\"{ASSETS_FOLDER}/office_4.jpg\", \n",
    "               f\"{ASSETS_FOLDER}/office_5.jpg\", \n",
    "               f\"{ASSETS_FOLDER}/office_6.jpg\"]\n",
    "  images = []\n",
    "  for filename in filenames:\n",
    "    im = cv2.imread(filename)\n",
    "    images.append(im)\n",
    " \n",
    "  return images, times"
   ]
  },
  {
   "cell_type": "code",
   "execution_count": 4,
   "metadata": {},
   "outputs": [],
   "source": [
    "images, times = readImagesAndTimes()"
   ]
  },
  {
   "cell_type": "code",
   "execution_count": 5,
   "metadata": {},
   "outputs": [],
   "source": [
    "alignMTB = cv2.createAlignMTB()\n",
    "alignMTB.process(images, images)"
   ]
  },
  {
   "cell_type": "code",
   "execution_count": 6,
   "metadata": {},
   "outputs": [],
   "source": [
    "calibrateDebevec = cv2.createCalibrateDebevec()\n",
    "responseDebevec = calibrateDebevec.process(images, times)"
   ]
  },
  {
   "cell_type": "code",
   "execution_count": 7,
   "metadata": {},
   "outputs": [
    {
     "data": {
      "text/plain": [
       "True"
      ]
     },
     "execution_count": 7,
     "metadata": {},
     "output_type": "execute_result"
    }
   ],
   "source": [
    "# Merge images into an HDR linear image\n",
    "mergeDebevec = cv2.createMergeDebevec()\n",
    "hdrDebevec = mergeDebevec.process(images, times, responseDebevec)\n",
    "# Save HDR image.\n",
    "cv2.imwrite(\"hdrDebevec.hdr\", hdrDebevec)"
   ]
  }
 ],
 "metadata": {
  "kernelspec": {
   "display_name": "Python 3",
   "language": "python",
   "name": "python3"
  },
  "language_info": {
   "codemirror_mode": {
    "name": "ipython",
    "version": 3
   },
   "file_extension": ".py",
   "mimetype": "text/x-python",
   "name": "python",
   "nbconvert_exporter": "python",
   "pygments_lexer": "ipython3",
   "version": "3.10.12"
  }
 },
 "nbformat": 4,
 "nbformat_minor": 2
}
